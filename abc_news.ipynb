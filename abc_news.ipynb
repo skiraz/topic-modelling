{
 "cells": [
  {
   "cell_type": "markdown",
   "id": "c63abb0d",
   "metadata": {},
   "source": [
    "# importing Data"
   ]
  },
  {
   "cell_type": "code",
   "execution_count": 2,
   "id": "04331e79",
   "metadata": {},
   "outputs": [
    {
     "name": "stdout",
     "output_type": "stream",
     "text": [
      "<class 'pandas.core.frame.DataFrame'>\n",
      "RangeIndex: 1226258 entries, 0 to 1226257\n",
      "Data columns (total 2 columns):\n",
      " #   Column         Non-Null Count    Dtype \n",
      "---  ------         --------------    ----- \n",
      " 0   publish_date   1226258 non-null  int64 \n",
      " 1   headline_text  1226258 non-null  object\n",
      "dtypes: int64(1), object(1)\n",
      "memory usage: 18.7+ MB\n"
     ]
    },
    {
     "data": {
      "text/html": [
       "<div>\n",
       "<style scoped>\n",
       "    .dataframe tbody tr th:only-of-type {\n",
       "        vertical-align: middle;\n",
       "    }\n",
       "\n",
       "    .dataframe tbody tr th {\n",
       "        vertical-align: top;\n",
       "    }\n",
       "\n",
       "    .dataframe thead th {\n",
       "        text-align: right;\n",
       "    }\n",
       "</style>\n",
       "<table border=\"1\" class=\"dataframe\">\n",
       "  <thead>\n",
       "    <tr style=\"text-align: right;\">\n",
       "      <th></th>\n",
       "      <th>publish_date</th>\n",
       "      <th>headline_text</th>\n",
       "    </tr>\n",
       "  </thead>\n",
       "  <tbody>\n",
       "    <tr>\n",
       "      <th>0</th>\n",
       "      <td>20030219</td>\n",
       "      <td>aba decides against community broadcasting lic...</td>\n",
       "    </tr>\n",
       "    <tr>\n",
       "      <th>1</th>\n",
       "      <td>20030219</td>\n",
       "      <td>act fire witnesses must be aware of defamation</td>\n",
       "    </tr>\n",
       "    <tr>\n",
       "      <th>2</th>\n",
       "      <td>20030219</td>\n",
       "      <td>a g calls for infrastructure protection summit</td>\n",
       "    </tr>\n",
       "    <tr>\n",
       "      <th>3</th>\n",
       "      <td>20030219</td>\n",
       "      <td>air nz staff in aust strike for pay rise</td>\n",
       "    </tr>\n",
       "    <tr>\n",
       "      <th>4</th>\n",
       "      <td>20030219</td>\n",
       "      <td>air nz strike to affect australian travellers</td>\n",
       "    </tr>\n",
       "  </tbody>\n",
       "</table>\n",
       "</div>"
      ],
      "text/plain": [
       "   publish_date                                      headline_text\n",
       "0      20030219  aba decides against community broadcasting lic...\n",
       "1      20030219     act fire witnesses must be aware of defamation\n",
       "2      20030219     a g calls for infrastructure protection summit\n",
       "3      20030219           air nz staff in aust strike for pay rise\n",
       "4      20030219      air nz strike to affect australian travellers"
      ]
     },
     "execution_count": 2,
     "metadata": {},
     "output_type": "execute_result"
    }
   ],
   "source": [
    "import pandas as pd\n",
    "from sklearn.datasets import fetch_20newsgroups\n",
    "import gensim\n",
    "from gensim.utils import simple_preprocess\n",
    "from nltk import PorterStemmer\n",
    "from gensim.parsing.preprocessing import STOPWORDS\n",
    "from nltk.stem import WordNetLemmatizer, SnowballStemmer\n",
    "from nltk.stem.porter import *\n",
    "import re\n",
    "from pprint import pprint\n",
    "from gensim import corpora, models\n",
    "import nltk\n",
    "import numpy as np\n",
    "stemmer=SnowballStemmer(\"english\")\n",
    "np.random.seed(2018)\n",
    "data=pd.read_csv(\"abcnews-date-text.csv\")\n",
    "data.info()\n",
    "data.head(5)\n",
    "\n",
    "\n"
   ]
  },
  {
   "cell_type": "markdown",
   "id": "e2f89430",
   "metadata": {},
   "source": [
    "# pre processing functions\n"
   ]
  },
  {
   "cell_type": "code",
   "execution_count": 3,
   "id": "3a09de5c",
   "metadata": {
    "scrolled": false
   },
   "outputs": [],
   "source": [
    "\n",
    "def lemmatize_stemming(text):\n",
    "    return stemmer.stem(WordNetLemmatizer().lemmatize(text, pos='v'))\n",
    "\n",
    "\n",
    "def preprocess(text):\n",
    "    result = []\n",
    "    for token in gensim.utils.simple_preprocess(text):\n",
    "        if token not in gensim.parsing.preprocessing.STOPWORDS and len(token) >= 3:\n",
    "            result.append(lemmatize_stemming(token))\n",
    "    return result\n",
    "\n"
   ]
  },
  {
   "cell_type": "code",
   "execution_count": 4,
   "id": "04fce7fc",
   "metadata": {},
   "outputs": [
    {
     "data": {
      "text/plain": [
       "0                 [aba, decid, communiti, broadcast, licenc]\n",
       "1                                    [act, wit, awar, defam]\n",
       "2                     [call, infrastructur, protect, summit]\n",
       "3                      [air, staff, aust, strike, pay, rise]\n",
       "4                  [air, strike, affect, australian, travel]\n",
       "                                 ...                        \n",
       "1226253                     [abc, reader, learn, look, year]\n",
       "1226254                     [south, african, variant, covid]\n",
       "1226255    [victoria, coronavirus, restrict, mean, new, y...\n",
       "1226256          [what, life, like, american, doctor, covid]\n",
       "1226257    [women, shed, canberra, reskil, unemploy, pandem]\n",
       "Name: headline_text, Length: 1226258, dtype: object"
      ]
     },
     "execution_count": 4,
     "metadata": {},
     "output_type": "execute_result"
    }
   ],
   "source": [
    "ready_data=data[\"headline_text\"].map(preprocess)\n",
    "ready_data"
   ]
  },
  {
   "cell_type": "markdown",
   "id": "d2465543",
   "metadata": {},
   "source": [
    "# dictionary"
   ]
  },
  {
   "cell_type": "code",
   "execution_count": 5,
   "id": "3e19b4fc",
   "metadata": {},
   "outputs": [],
   "source": [
    "dictionary = gensim.corpora.Dictionary(ready_data)\n",
    "dictionary.filter_extremes(no_below=15, no_above=0.5, keep_n=100000)"
   ]
  },
  {
   "cell_type": "code",
   "execution_count": 6,
   "id": "d1b247a0",
   "metadata": {},
   "outputs": [],
   "source": [
    "bow_corpus = [dictionary.doc2bow(doc) for doc in ready_data]\n"
   ]
  },
  {
   "cell_type": "markdown",
   "id": "de780f4e",
   "metadata": {},
   "source": [
    "# lda model training without tfi-df algorithim"
   ]
  },
  {
   "cell_type": "code",
   "execution_count": 14,
   "id": "e96bbf20",
   "metadata": {},
   "outputs": [],
   "source": [
    "lda_model = gensim.models.LdaMulticore(bow_corpus, num_topics=10, id2word=dictionary, passes=2, workers=2)"
   ]
  },
  {
   "cell_type": "code",
   "execution_count": 15,
   "id": "3cdbc526",
   "metadata": {},
   "outputs": [
    {
     "name": "stdout",
     "output_type": "stream",
     "text": [
      "Topic: 0 \n",
      "Words: 0.041*\"australia\" + 0.020*\"day\" + 0.019*\"win\" + 0.018*\"world\"\n",
      "Topic: 1 \n",
      "Words: 0.042*\"trump\" + 0.025*\"china\" + 0.023*\"donald\" + 0.022*\"south\"\n",
      "Topic: 2 \n",
      "Words: 0.023*\"tasmania\" + 0.016*\"minist\" + 0.015*\"say\" + 0.014*\"drum\"\n",
      "Topic: 3 \n",
      "Words: 0.033*\"case\" + 0.024*\"court\" + 0.018*\"face\" + 0.017*\"afl\"\n",
      "Topic: 4 \n",
      "Words: 0.079*\"coronavirus\" + 0.035*\"covid\" + 0.029*\"queensland\" + 0.028*\"nsw\"\n",
      "Topic: 5 \n",
      "Words: 0.037*\"say\" + 0.034*\"elect\" + 0.019*\"adelaid\" + 0.013*\"abc\"\n",
      "Topic: 6 \n",
      "Words: 0.045*\"polic\" + 0.036*\"man\" + 0.030*\"sydney\" + 0.024*\"death\"\n",
      "Topic: 7 \n",
      "Words: 0.018*\"school\" + 0.014*\"plan\" + 0.013*\"new\" + 0.012*\"fund\"\n",
      "Topic: 8 \n",
      "Words: 0.021*\"market\" + 0.015*\"rise\" + 0.014*\"chang\" + 0.014*\"record\"\n",
      "Topic: 9 \n",
      "Words: 0.041*\"govern\" + 0.021*\"restrict\" + 0.015*\"protest\" + 0.015*\"power\"\n"
     ]
    }
   ],
   "source": [
    "for idx, topic in lda_model.print_topics(num_words=4):\n",
    "    print('Topic: {} \\nWords: {}'.format(idx, topic))"
   ]
  },
  {
   "cell_type": "markdown",
   "id": "48c81dab",
   "metadata": {},
   "source": [
    "# lda model training with tfi-df"
   ]
  },
  {
   "cell_type": "code",
   "execution_count": 16,
   "id": "7afc33f4",
   "metadata": {},
   "outputs": [
    {
     "name": "stdout",
     "output_type": "stream",
     "text": [
      "[(0, 0.5961221629567331),\n",
      " (1, 0.4691066873890528),\n",
      " (2, 0.31151361288073415),\n",
      " (3, 0.4021230894767581),\n",
      " (4, 0.4072266845116059)]\n"
     ]
    }
   ],
   "source": [
    "tfidf = models.TfidfModel(bow_corpus)\n",
    "corpus_tfidf = tfidf[bow_corpus]\n",
    "for doc in corpus_tfidf:\n",
    "    pprint(doc)\n",
    "    break\n"
   ]
  },
  {
   "cell_type": "code",
   "execution_count": 17,
   "id": "6447556a",
   "metadata": {},
   "outputs": [
    {
     "name": "stdout",
     "output_type": "stream",
     "text": [
      "Topic: 0 Word: 0.028*\"trump\" + 0.016*\"donald\" + 0.009*\"world\" + 0.009*\"morrison\"\n",
      "Topic: 1 Word: 0.016*\"countri\" + 0.012*\"bushfir\" + 0.011*\"coast\" + 0.011*\"hour\"\n",
      "Topic: 2 Word: 0.023*\"news\" + 0.013*\"rural\" + 0.012*\"abc\" + 0.009*\"friday\"\n",
      "Topic: 3 Word: 0.012*\"elect\" + 0.007*\"royal\" + 0.007*\"stori\" + 0.007*\"commiss\"\n",
      "Topic: 4 Word: 0.012*\"live\" + 0.011*\"coronavirus\" + 0.008*\"australia\" + 0.007*\"updat\"\n",
      "Topic: 5 Word: 0.025*\"coronavirus\" + 0.017*\"covid\" + 0.012*\"govern\" + 0.006*\"new\"\n",
      "Topic: 6 Word: 0.019*\"man\" + 0.017*\"polic\" + 0.016*\"charg\" + 0.013*\"murder\"\n",
      "Topic: 7 Word: 0.015*\"drum\" + 0.009*\"tuesday\" + 0.008*\"turnbul\" + 0.007*\"korea\"\n",
      "Topic: 8 Word: 0.012*\"restrict\" + 0.010*\"scott\" + 0.010*\"west\" + 0.008*\"coronavirus\"\n",
      "Topic: 9 Word: 0.016*\"interview\" + 0.012*\"sentenc\" + 0.010*\"christma\" + 0.008*\"sexual\"\n"
     ]
    }
   ],
   "source": [
    "lda_model_tfidf = gensim.models.LdaMulticore(corpus_tfidf, num_topics=10, id2word=dictionary, passes=2, workers=4)\n",
    "for idx, topic in lda_model_tfidf.print_topics(num_words=4):\n",
    "    print('Topic: {} Word: {}'.format(idx, topic))\n",
    "    "
   ]
  },
  {
   "cell_type": "markdown",
   "id": "4206605a",
   "metadata": {},
   "source": [
    "# testing lda model"
   ]
  },
  {
   "cell_type": "code",
   "execution_count": 18,
   "id": "9c6a6109",
   "metadata": {},
   "outputs": [],
   "source": [
    "testing = ['The Indian women’s hockey team have scripted history! They have booked their spot in the semifinals of the Olympics for the very first time after beating Australia 1-0 in the quarterfinals. Rani Rampal and her team will face Argentina in the semis who beat Germany 3-0 in the previous quarterfinals match.',\n",
    "          'Christianity began in the 1st century AD after Jesus died and was claimed to be resurrected. Starting as a small group of Jewish people in Judea, it spread quickly throughout the Roman Empire. Despite early persecution of Christians, it later became the state religion. In the Middle Ages it spread into Northern Europe and Russia. During the Age of Exploration, Christianity expanded throughout the world; it is currently the largest religion of the world.',\n",
    "          'Oil prices fell on Monday as worries over Chinas economy resurfaced after a survey showing growth in factory activity slipped sharply in the worlds second-largest oil consumer, with concerns compounded by higher crude output from OPEC producers. Brent crude oil futures slid by 79 cents, or 1.06%, to $74.62 a barrel by 0945 GMT, having earlier touched a low of $74.10. U.S. West Texas Intermediate (WTI) crude futures dropped 88 cents, or 1.2%, to $73.07 after slipping to a session low of $72.77. China has been leading economic recovery in Asia and if the pullback deepens, concerns will grow that the global outlook will see a significant decline, said Edward Moya, senior analyst at OANDA. Chinas factory activity growth slipped sharply in July as demand contracted for the first time in more than a year, a survey showed on Monday.',\n",
    "          'President Biden on Monday praised King Abdullah II of Jordan as a loyal and decent friend as the two leaders met at the White House, a critical visit for a Mideast leader who found himself side lined under former President Donald J. Trump. King Abdullah is the first Arab head of state to visit the White House since Mr. Biden took office, a sign that the United States wants to elevate Jordan once again to its traditional role as a regional peacemaker. We’ve been hanging out together for a long time, Mr. Biden said Monday, as the two sat in the Oval Office ahead of their bilateral meeting. It’s good to have him back in the White House.” Although Mr. Biden’s foreign policy priorities are heavily focused on China and Russia, the Middle East is a region that the new administration quickly learned it cannot afford to ignore',\n",
    "          'Windows 11 has got its first beta for members of the Windows Insider Program. The new OS from Microsoft was announced last month after which the developer preview was released. Microsoft says this beta build is part of the beta cannel and it brings a host of features and improvements to the OS. While it is more stable than the previous developer preview, it still has several bugs so keep that in mind if you plan on using it on your primary PC.',\n",
    "          'Gross domestic product grew at a 6.5% annual rate in the second quarter and the economy exceeded its pre-pandemic size, but slower growth is expected in coming months.',\n",
    "          'Different religions god may or may not contain various elements ranging from the divine,[4] sacred things,[5] faith,[6] a supernatural being or supernatural beings[7] or \"some sort of ultimacy and transcendence that will provide norms and power for the rest of life\".',\n",
    "          'A variety of methods are deployed in politics, which include promoting ones own political views among people, negotiation with other political subjects, making laws, and exercising force, including warfare against adversaries',\n",
    "          'Mutaz Essa Barshim from Qatar and Gianmarco Tamberi from Italy were the last men standing in the final of the mens high jump event on Sunday. Both had successfully cleared the 2.37 metres mark and both also couldnt clear 2.39 metres, using up all three attempts. Which served up a conundrum. Who wins? Officials offered Barshim and Tamberi two options. They could take part in jump-off, to decide a winner, or they could share the gold medal.',\n",
    "          'The latest Android 12 beta is here. This is an exclusive first look at Googles all-new design with big buttons, new widgets, and more — plus all the new features including improved privacy options and an Android TV remote. Dieter Bohn walks through everything you need to know about Android 12 from Google I/O 2021.']"
   ]
  },
  {
   "cell_type": "code",
   "execution_count": 22,
   "id": "4906b452",
   "metadata": {
    "scrolled": true
   },
   "outputs": [
    {
     "name": "stdout",
     "output_type": "stream",
     "text": [
      "Score: 0.20355068147182465\t Topic: 0.079*\"coronavirus\" + 0.035*\"covid\" + 0.029*\"queensland\" + 0.028*\"nsw\" + 0.023*\"victoria\"\n",
      "Score: 0.1697162240743637\t Topic: 0.041*\"govern\" + 0.021*\"restrict\" + 0.015*\"protest\" + 0.015*\"power\" + 0.014*\"andrew\"\n",
      "Score: 0.16728363931179047\t Topic: 0.021*\"market\" + 0.015*\"rise\" + 0.014*\"chang\" + 0.014*\"record\" + 0.014*\"australian\"\n",
      "Score: 0.1416424810886383\t Topic: 0.041*\"australia\" + 0.020*\"day\" + 0.019*\"win\" + 0.018*\"world\" + 0.018*\"test\"\n",
      "Score: 0.09540995955467224\t Topic: 0.033*\"case\" + 0.024*\"court\" + 0.018*\"face\" + 0.017*\"afl\" + 0.016*\"trial\"\n",
      "Score: 0.08948663622140884\t Topic: 0.042*\"trump\" + 0.025*\"china\" + 0.023*\"donald\" + 0.022*\"south\" + 0.019*\"australia\"\n",
      "Score: 0.0662970095872879\t Topic: 0.037*\"say\" + 0.034*\"elect\" + 0.019*\"adelaid\" + 0.013*\"abc\" + 0.012*\"tasmanian\"\n",
      "Score: 0.03331269323825836\t Topic: 0.023*\"tasmania\" + 0.016*\"minist\" + 0.015*\"say\" + 0.014*\"drum\" + 0.013*\"amid\"\n",
      "Score: 0.030594298616051674\t Topic: 0.045*\"polic\" + 0.036*\"man\" + 0.030*\"sydney\" + 0.024*\"death\" + 0.024*\"charg\"\n"
     ]
    }
   ],
   "source": [
    "bow_vector = dictionary.doc2bow(preprocess(testing[1]))\n",
    "for index, score in sorted(lda_model[bow_vector], key=lambda tup: -1*tup[1]):\n",
    "    print(\"Score: {}\\t Topic: {}\".format(score, lda_model.print_topic(index, 5)))"
   ]
  },
  {
   "cell_type": "markdown",
   "id": "03fbff58",
   "metadata": {},
   "source": [
    "# testing lda model with tfi-df"
   ]
  },
  {
   "cell_type": "code",
   "execution_count": 23,
   "id": "3afe171c",
   "metadata": {},
   "outputs": [
    {
     "name": "stdout",
     "output_type": "stream",
     "text": [
      "Score: 0.6698287725448608\t Topic: 0.028*\"trump\" + 0.016*\"donald\" + 0.009*\"world\" + 0.009*\"morrison\" + 0.009*\"cup\"\n",
      "Score: 0.12359201163053513\t Topic: 0.012*\"live\" + 0.011*\"coronavirus\" + 0.008*\"australia\" + 0.007*\"updat\" + 0.006*\"day\"\n",
      "Score: 0.11957252770662308\t Topic: 0.015*\"drum\" + 0.009*\"tuesday\" + 0.008*\"turnbul\" + 0.007*\"korea\" + 0.007*\"south\"\n",
      "Score: 0.058399710804224014\t Topic: 0.025*\"coronavirus\" + 0.017*\"covid\" + 0.012*\"govern\" + 0.006*\"new\" + 0.006*\"nsw\"\n"
     ]
    }
   ],
   "source": [
    "bow_vector = dictionary.doc2bow(preprocess(testing[0]))\n",
    "for index, score in sorted(lda_model_tfidf[bow_vector], key=lambda tup: -1*tup[1]):\n",
    "    print(\"Score: {}\\t Topic: {}\".format(score, lda_model_tfidf.print_topic(index, 5)))"
   ]
  }
 ],
 "metadata": {
  "kernelspec": {
   "display_name": "Python 3",
   "language": "python",
   "name": "python3"
  },
  "language_info": {
   "codemirror_mode": {
    "name": "ipython",
    "version": 3
   },
   "file_extension": ".py",
   "mimetype": "text/x-python",
   "name": "python",
   "nbconvert_exporter": "python",
   "pygments_lexer": "ipython3",
   "version": "3.8.8"
  }
 },
 "nbformat": 4,
 "nbformat_minor": 5
}
